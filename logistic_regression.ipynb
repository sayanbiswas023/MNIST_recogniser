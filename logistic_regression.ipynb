{
  "nbformat": 4,
  "nbformat_minor": 0,
  "metadata": {
    "colab": {
      "name": "logistic_regression.ipynb",
      "provenance": [],
      "collapsed_sections": []
    },
    "kernelspec": {
      "name": "python3",
      "display_name": "Python 3"
    }
  },
  "cells": [
    {
      "cell_type": "code",
      "metadata": {
        "id": "YdqaC7mm_Nn-"
      },
      "source": [
        "import numpy as np\n",
        "import pandas as pd\n",
        "\n",
        "\n",
        "class logisticregression:\n",
        "    ##init\n",
        "   def __init__(self,lr):\n",
        "        self.lr=lr\n",
        "    ##softmax\n",
        "   def softmax(self,u):\n",
        "        expu=np.exp(u)\n",
        "        return expu/np.sum(expu)\n",
        "   ##cross entropy cost func\n",
        "   def crossEntropy(self,p,q):\n",
        "     return -np.vdot(p,np.log(q))\n",
        "\n",
        "   ##cost evaluation\n",
        "   def eval_L(self,X,Y,beta):\n",
        "     N=X.shape[0]\n",
        "     L=0.0\n",
        "     for i in range(N):\n",
        "       XiHat=X[i] ##augmented feature vector\n",
        "       Yi=Y[i] ##ground truth\n",
        "       qi=self.softmax(beta @ XiHat) ##probability vector\n",
        "\n",
        "       L+=self.crossEntropy(Yi,qi) ##loss for each i\n",
        "  \n",
        "     return L\n",
        "\n",
        "   ##logisticregression function \n",
        "   def logReg(self,X,Y,lr):\n",
        "     numEpochs=100 ##epochs defined\n",
        "     n,d=X.shape   ##n:n_samples,d:n_features\n",
        "     X=np.insert(X,0,1,axis=1) ##augmented matrix\n",
        "     k=Y.shape[1]\n",
        "     beta=np.zeros((k,d+1))\n",
        "     Lvals=[]\n",
        "     for ep in range(numEpochs):\n",
        "\n",
        "       L=self.eval_L(X,Y,beta)\n",
        "       Lvals.append(L)\n",
        "\n",
        "       print(\"Epoch is: \"+str(ep)+\" Cost is:\"+str(L))\n",
        "\n",
        "       prm=np.random.permutation(n) ##random values chosen to perform stochastic gradient descent\n",
        "\n",
        "       for i in prm:\n",
        "         XiHat=X[i]\n",
        "         Yi=Y[i]\n",
        "\n",
        "         qi=self.softmax(beta @ XiHat)##10X785 @ 785X1\n",
        "         grad_Li=np.outer(qi-Yi,XiHat) ##gradient of loss\n",
        "\n",
        "         beta-=lr*grad_Li ##parameter update\n",
        "    \n",
        "     return beta,Lvals\n",
        "\n",
        "   ##predictor\n",
        "   def predict(self,X,beta):\n",
        "     X=np.insert(X,0,1,axis=1)\n",
        "     N=X.shape[0]\n",
        "\n",
        "     predictions=[]\n",
        "     for i in range (N):\n",
        "       XiHat=X[i]\n",
        "       qi=self.softmax(beta @ XiHat)\n",
        "\n",
        "       p=np.argmax(qi)\n",
        "\n",
        "       predictions.append(p)\n",
        "  \n",
        "     return predictions"
      ],
      "execution_count": null,
      "outputs": []
    },
    {
      "cell_type": "code",
      "metadata": {
        "id": "J6d81Ch0FxBm"
      },
      "source": [
        "import numpy as np\n",
        "import pandas as pd\n",
        "import matplotlib.pyplot as plt\n",
        "\n",
        "train=pd.read_csv('sample_data/mnist_train_small.csv')\n",
        "test=pd.read_csv('sample_data/mnist_test.csv')\n",
        "\n",
        "df = pd.DataFrame(train)\n",
        "dff = pd.DataFrame(test)\n",
        "\n",
        "##extracting y out of dataset\n",
        "y_train=df.iloc[:,0]\n",
        "y_test=dff.iloc[:,0]\n",
        "\n",
        "##extracting x out of dataset\n",
        "x_train=df.drop(df.columns[0], axis=1)\n",
        "x_test=dff.drop(dff.columns[0], axis=1)\n",
        "\n",
        "\n",
        "##converting dataframe to numpy array\n",
        "x_train.to_numpy()\n",
        "x_test.to_numpy()\n",
        "y_train.to_numpy()\n",
        "y_test.to_numpy()\n",
        "\n",
        "##normalise x\n",
        "x_train=x_train/255.0\n",
        "x_test=x_test/255.0\n",
        "\n",
        "y_train=pd.get_dummies(y_train).values ## converts to one_hot\n",
        "x_train=x_train.values\n",
        "\n",
        "x_test=x_test.values\n"
      ],
      "execution_count": null,
      "outputs": []
    },
    {
      "cell_type": "code",
      "metadata": {
        "colab": {
          "base_uri": "https://localhost:8080/"
        },
        "id": "bpKt5yj-F3X6",
        "outputId": "bbcbbaf2-f914-4ea9-8815-12f29c112d43"
      },
      "source": [
        "import matplotlib.pyplot as plt\n",
        "lr=0.001\n",
        "regressor=logisticregression(lr)\n",
        "beta,Lvals=regressor.logReg(x_train,y_train,lr)\n"
      ],
      "execution_count": null,
      "outputs": [
        {
          "output_type": "stream",
          "text": [
            "Epoch is: 0 Cost is:46049.39927478139\n",
            "Epoch is: 1 Cost is:9675.64119094432\n",
            "Epoch is: 2 Cost is:8078.206640302426\n",
            "Epoch is: 3 Cost is:7403.345217040681\n",
            "Epoch is: 4 Cost is:6991.433693325096\n",
            "Epoch is: 5 Cost is:6727.509449189514\n",
            "Epoch is: 6 Cost is:6507.233123443135\n",
            "Epoch is: 7 Cost is:6349.370198114114\n",
            "Epoch is: 8 Cost is:6219.849362706058\n",
            "Epoch is: 9 Cost is:6132.553280989203\n",
            "Epoch is: 10 Cost is:6025.6072918701675\n",
            "Epoch is: 11 Cost is:5927.1769457777555\n",
            "Epoch is: 12 Cost is:5860.597099641137\n",
            "Epoch is: 13 Cost is:5791.072158464438\n",
            "Epoch is: 14 Cost is:5732.007341822708\n",
            "Epoch is: 15 Cost is:5683.152807971976\n",
            "Epoch is: 16 Cost is:5654.931769131561\n",
            "Epoch is: 17 Cost is:5591.236973960262\n",
            "Epoch is: 18 Cost is:5532.365318285704\n",
            "Epoch is: 19 Cost is:5499.952812113815\n",
            "Epoch is: 20 Cost is:5488.240369671993\n",
            "Epoch is: 21 Cost is:5422.0328839297335\n",
            "Epoch is: 22 Cost is:5402.648485187161\n",
            "Epoch is: 23 Cost is:5372.2038532716115\n",
            "Epoch is: 24 Cost is:5335.132046241597\n",
            "Epoch is: 25 Cost is:5317.363346504994\n",
            "Epoch is: 26 Cost is:5304.896190045733\n",
            "Epoch is: 27 Cost is:5269.183308750152\n",
            "Epoch is: 28 Cost is:5247.210959128187\n",
            "Epoch is: 29 Cost is:5231.676837111959\n",
            "Epoch is: 30 Cost is:5215.9822483748\n",
            "Epoch is: 31 Cost is:5177.009075742244\n",
            "Epoch is: 32 Cost is:5168.908678998056\n",
            "Epoch is: 33 Cost is:5128.906659389395\n",
            "Epoch is: 34 Cost is:5133.052229254726\n",
            "Epoch is: 35 Cost is:5099.856148754167\n",
            "Epoch is: 36 Cost is:5074.1614194817\n",
            "Epoch is: 37 Cost is:5060.723106194012\n",
            "Epoch is: 38 Cost is:5042.815327840734\n",
            "Epoch is: 39 Cost is:5038.65109972716\n",
            "Epoch is: 40 Cost is:5012.090678823727\n",
            "Epoch is: 41 Cost is:4995.112840752172\n",
            "Epoch is: 42 Cost is:4987.2701946124325\n",
            "Epoch is: 43 Cost is:4989.341888091004\n",
            "Epoch is: 44 Cost is:4947.079295158383\n",
            "Epoch is: 45 Cost is:4943.686938177414\n",
            "Epoch is: 46 Cost is:4929.894463447691\n",
            "Epoch is: 47 Cost is:4909.669395215149\n",
            "Epoch is: 48 Cost is:4903.66936695701\n",
            "Epoch is: 49 Cost is:4881.982547482201\n",
            "Epoch is: 50 Cost is:4876.106719356782\n",
            "Epoch is: 51 Cost is:4869.402373598632\n",
            "Epoch is: 52 Cost is:4856.48590770653\n",
            "Epoch is: 53 Cost is:4852.972331120822\n",
            "Epoch is: 54 Cost is:4841.567655606804\n",
            "Epoch is: 55 Cost is:4845.990414500454\n",
            "Epoch is: 56 Cost is:4806.810460592975\n",
            "Epoch is: 57 Cost is:4828.978136298221\n",
            "Epoch is: 58 Cost is:4787.364282818768\n",
            "Epoch is: 59 Cost is:4772.973062423503\n",
            "Epoch is: 60 Cost is:4772.127943446363\n",
            "Epoch is: 61 Cost is:4760.11408714945\n",
            "Epoch is: 62 Cost is:4750.4459960948825\n",
            "Epoch is: 63 Cost is:4806.202976656796\n",
            "Epoch is: 64 Cost is:4746.166256477997\n",
            "Epoch is: 65 Cost is:4717.514418857735\n",
            "Epoch is: 66 Cost is:4732.933262151455\n",
            "Epoch is: 67 Cost is:4706.366610502205\n",
            "Epoch is: 68 Cost is:4707.797929761952\n",
            "Epoch is: 69 Cost is:4690.167438027063\n",
            "Epoch is: 70 Cost is:4678.376740620628\n",
            "Epoch is: 71 Cost is:4687.757248146196\n",
            "Epoch is: 72 Cost is:4672.29001246678\n",
            "Epoch is: 73 Cost is:4663.630000331433\n",
            "Epoch is: 74 Cost is:4645.403824924867\n",
            "Epoch is: 75 Cost is:4652.8671503588685\n",
            "Epoch is: 76 Cost is:4672.040042034526\n",
            "Epoch is: 77 Cost is:4624.300568345393\n",
            "Epoch is: 78 Cost is:4622.130178728642\n",
            "Epoch is: 79 Cost is:4615.056256905428\n",
            "Epoch is: 80 Cost is:4603.733979988269\n",
            "Epoch is: 81 Cost is:4594.995664357185\n",
            "Epoch is: 82 Cost is:4590.885124119442\n",
            "Epoch is: 83 Cost is:4596.698596667105\n",
            "Epoch is: 84 Cost is:4601.536855054653\n",
            "Epoch is: 85 Cost is:4581.156497047489\n",
            "Epoch is: 86 Cost is:4565.109468135664\n",
            "Epoch is: 87 Cost is:4573.2989228094975\n",
            "Epoch is: 88 Cost is:4563.9096526661115\n",
            "Epoch is: 89 Cost is:4586.126710170251\n",
            "Epoch is: 90 Cost is:4557.352268072221\n",
            "Epoch is: 91 Cost is:4537.099848779882\n",
            "Epoch is: 92 Cost is:4552.476453748036\n",
            "Epoch is: 93 Cost is:4524.369877933347\n",
            "Epoch is: 94 Cost is:4517.059491229502\n",
            "Epoch is: 95 Cost is:4515.803007582025\n",
            "Epoch is: 96 Cost is:4508.475599576808\n",
            "Epoch is: 97 Cost is:4497.486168312502\n",
            "Epoch is: 98 Cost is:4492.379508170266\n",
            "Epoch is: 99 Cost is:4507.367743297306\n"
          ],
          "name": "stdout"
        }
      ]
    },
    {
      "cell_type": "code",
      "metadata": {
        "colab": {
          "base_uri": "https://localhost:8080/",
          "height": 282
        },
        "id": "bNcelYjqHRxl",
        "outputId": "b8329040-f710-46f4-c912-c7c2ea9374fd"
      },
      "source": [
        "plt.semilogy(Lvals)"
      ],
      "execution_count": null,
      "outputs": [
        {
          "output_type": "execute_result",
          "data": {
            "text/plain": [
              "[<matplotlib.lines.Line2D at 0x7f76d6f96c50>]"
            ]
          },
          "metadata": {
            "tags": []
          },
          "execution_count": 8
        },
        {
          "output_type": "display_data",
          "data": {
            "image/png": "[encoded data removed]",
            "text/plain": [
              "<Figure size 432x288 with 1 Axes>"
            ]
          },
          "metadata": {
            "tags": [],
            "needs_background": "light"
          }
        }
      ]
    },
    {
      "cell_type": "code",
      "metadata": {
        "id": "ddec4lXyKl_X"
      },
      "source": [
        "predictions=regressor.predict(x_test,beta)"
      ],
      "execution_count": null,
      "outputs": []
    },
    {
      "cell_type": "code",
      "metadata": {
        "id": "yPRP2ZxBRPS0",
        "colab": {
          "base_uri": "https://localhost:8080/"
        },
        "outputId": "889e2256-e65c-4719-aaa7-9d24bdf36033"
      },
      "source": [
        "predictions[0:10]"
      ],
      "execution_count": null,
      "outputs": [
        {
          "output_type": "execute_result",
          "data": {
            "text/plain": [
              "[2, 1, 0, 4, 1, 4, 9, 6, 9, 0]"
            ]
          },
          "metadata": {
            "tags": []
          },
          "execution_count": 10
        }
      ]
    },
    {
      "cell_type": "code",
      "metadata": {
        "id": "eLiBRAjMdAHN",
        "colab": {
          "base_uri": "https://localhost:8080/"
        },
        "outputId": "f12f4721-912c-494e-9e30-3f3aa38bd6c1"
      },
      "source": [
        "y_test[0:10]"
      ],
      "execution_count": null,
      "outputs": [
        {
          "output_type": "execute_result",
          "data": {
            "text/plain": [
              "0    2\n",
              "1    1\n",
              "2    0\n",
              "3    4\n",
              "4    1\n",
              "5    4\n",
              "6    9\n",
              "7    5\n",
              "8    9\n",
              "9    0\n",
              "Name: 7, dtype: int64"
            ]
          },
          "metadata": {
            "tags": []
          },
          "execution_count": 11
        }
      ]
    },
    {
      "cell_type": "code",
      "metadata": {
        "colab": {
          "base_uri": "https://localhost:8080/"
        },
        "id": "gCsADvrCZOc0",
        "outputId": "0fb471c6-d54b-469a-c44a-36091155cee1"
      },
      "source": [
        "c=x_test.shape[0]\n",
        "r=0\n",
        "for i in range(c):\n",
        "  if predictions[i]==y_test[i]:\n",
        "    r+=1\n",
        "accuracy=(r/c)*100\n",
        "\n",
        "print (\"accuracy:\"+str(accuracy))"
      ],
      "execution_count": null,
      "outputs": [
        {
          "output_type": "stream",
          "text": [
            "accuracy:92.13921392139214\n"
          ],
          "name": "stdout"
        }
      ]
    },
    {
      "cell_type": "code",
      "metadata": {
        "id": "QIcdjtxwgNHv"
      },
      "source": [
        ""
      ],
      "execution_count": null,
      "outputs": []
    }
  ]
}