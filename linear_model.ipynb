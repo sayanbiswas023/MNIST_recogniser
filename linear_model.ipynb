{
  "nbformat": 4,
  "nbformat_minor": 0,
  "metadata": {
    "colab": {
      "name": "linear_model.ipynb",
      "provenance": [],
      "collapsed_sections": []
    },
    "kernelspec": {
      "name": "python3",
      "display_name": "Python 3"
    }
  },
  "cells": [
    {
      "cell_type": "code",
      "metadata": {
        "id": "e4joM7l6M90Q"
      },
      "source": [
        "import numpy as np\n",
        " \n",
        "class linearregression:\n",
        " \n",
        "    def __init__(self, learning_rate, n_iters):\n",
        "        self.lr = learning_rate\n",
        "        self.n_iters = n_iters\n",
        "        self.slope = None\n",
        "        self.intercept = None\n",
        " \n",
        "    def fit(self, X, Y):\n",
        "        n_samples,n_features = X.shape\n",
        " \n",
        "        # init parameters\n",
        "        self.slope = np.zeros(n_features)\n",
        "        self.intercept = 0\n",
        "        self.X = X\n",
        "        self.Y = Y\n",
        " \n",
        "        # gradient descent\n",
        "        for i in range(self.n_iters):\n",
        "            y_predicted = np.dot(X, self.slope) + self.intercept\n",
        "            # compute gradients\n",
        "            dm = (1 / n_samples) * np.dot(X.T, (y_predicted - self.Y))\n",
        "            dc = (1 / n_samples) * np.sum(y_predicted - self.Y)\n",
        " \n",
        "            # update parameters\n",
        "            self.slope -= self.lr * dm\n",
        "            self.intercept -= self.lr * dc\n",
        "            loss=(1/(2*n_samples))*np.sum((y_predicted-y_train)**2)\n",
        "\n",
        "            if (i+1)%5000 == 0:\n",
        "              print(\"For iteration number: \"+str(i)+\" Loss is: \"+str(loss))\n",
        " \n",
        "    def predict(self, X):\n",
        "        y_approximated = np.dot(X, self.slope) + self.intercept\n",
        "        return y_approximated"
      ],
      "execution_count": null,
      "outputs": []
    },
    {
      "cell_type": "code",
      "metadata": {
        "id": "N6HcfhrZoC9V"
      },
      "source": [
        "import pandas as pd\n",
        "import matplotlib.pyplot as plt\n",
        "\n",
        "train=pd.read_csv('sample_data/mnist_train_small.csv')\n",
        "test=pd.read_csv('sample_data/mnist_test.csv')\n",
        "\n",
        "df = pd.DataFrame(train)\n",
        "\n",
        "dff = pd.DataFrame(test)\n",
        "\n",
        "##extracting y out of dataset\n",
        "y_train=df.iloc[:,0]\n",
        "y_test=dff.iloc[:,0]\n",
        "\n",
        "##extracting x out of dataset\n",
        "x_train=df.drop(df.columns[0], axis=1)\n",
        "x_test=dff.drop(dff.columns[0], axis=1)\n",
        "\n",
        "\n",
        "##converting dataframe to numpy array\n",
        "x_train.to_numpy()\n",
        "x_test.to_numpy()\n",
        "y_train.to_numpy().astype('int')\n",
        "y_test.to_numpy().astype('int')\n",
        "\n",
        "##normalise x\n",
        "x_train=x_train/255.0\n",
        "x_test=x_test/255.0\n",
        "\n",
        "##y_train=pd.get_dummies(y_train).values\n",
        "x_train=x_train.values\n",
        "x_test=x_test.values\n"
      ],
      "execution_count": null,
      "outputs": []
    },
    {
      "cell_type": "code",
      "metadata": {
        "id": "2KQYqxlhEU34",
        "colab": {
          "base_uri": "https://localhost:8080/"
        },
        "outputId": "fdb94ac5-0a32-475d-c557-528cedf20a9e"
      },
      "source": [
        "regressor = linearregression(learning_rate=0.001, n_iters=100000)\n",
        "regressor.fit(x_train, y_train)\n",
        "predictions = regressor.predict(x_test)"
      ],
      "execution_count": null,
      "outputs": [
        {
          "output_type": "stream",
          "text": [
            "For iteration number: 4999 Loss is: 1.9362908296538568\n",
            "For iteration number: 9999 Loss is: 1.7969427670559845\n",
            "For iteration number: 14999 Loss is: 1.7276858882103303\n",
            "For iteration number: 19999 Loss is: 1.6888446498138456\n",
            "For iteration number: 24999 Loss is: 1.6653823275447504\n",
            "For iteration number: 29999 Loss is: 1.6503184162019497\n",
            "For iteration number: 34999 Loss is: 1.6400934165853245\n",
            "For iteration number: 39999 Loss is: 1.6327840188623777\n",
            "For iteration number: 44999 Loss is: 1.6273068632412022\n",
            "For iteration number: 49999 Loss is: 1.6230302770003857\n",
            "For iteration number: 54999 Loss is: 1.6195738797647776\n",
            "For iteration number: 59999 Loss is: 1.6167010711329384\n",
            "For iteration number: 64999 Loss is: 1.6142596626784491\n",
            "For iteration number: 69999 Loss is: 1.6121483074079124\n",
            "For iteration number: 74999 Loss is: 1.61029710456946\n",
            "For iteration number: 79999 Loss is: 1.6086561569986926\n",
            "For iteration number: 84999 Loss is: 1.6071886736107561\n",
            "For iteration number: 89999 Loss is: 1.6058667162835536\n",
            "For iteration number: 94999 Loss is: 1.604668513154997\n",
            "For iteration number: 99999 Loss is: 1.6035767173455904\n"
          ],
          "name": "stdout"
        }
      ]
    },
    {
      "cell_type": "code",
      "metadata": {
        "colab": {
          "base_uri": "https://localhost:8080/"
        },
        "id": "ElUeAxM4rYd4",
        "outputId": "7187ae56-16bd-4bc2-934e-b9e259d5b8d0"
      },
      "source": [
        "predictions3=np.floor(predictions)\n",
        "predictions3"
      ],
      "execution_count": null,
      "outputs": [
        {
          "output_type": "execute_result",
          "data": {
            "text/plain": [
              "array([2., 1., 1., ..., 8., 5., 5.])"
            ]
          },
          "metadata": {
            "tags": []
          },
          "execution_count": 4
        }
      ]
    },
    {
      "cell_type": "code",
      "metadata": {
        "colab": {
          "base_uri": "https://localhost:8080/"
        },
        "id": "klcRnIRnrH_N",
        "outputId": "7914fbff-352c-452e-da66-24c7a8f2e3e1"
      },
      "source": [
        "r=0\n",
        "for i in range(0,9999):\n",
        "  if predictions3[i]==y_test[i]:\n",
        "    r+=1\n",
        "\n",
        "print((r*100)/9999)"
      ],
      "execution_count": null,
      "outputs": [
        {
          "output_type": "stream",
          "text": [
            "23.912391239123913\n"
          ],
          "name": "stdout"
        }
      ]
    },
    {
      "cell_type": "code",
      "metadata": {
        "id": "8QquF5T3rs3g"
      },
      "source": [
        ""
      ],
      "execution_count": null,
      "outputs": []
    }
  ]
}