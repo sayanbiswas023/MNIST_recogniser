{
  "nbformat": 4,
  "nbformat_minor": 0,
  "metadata": {
    "colab": {
      "name": "KNN_finalised.ipynb",
      "provenance": [],
      "collapsed_sections": []
    },
    "kernelspec": {
      "name": "python3",
      "display_name": "Python 3"
    },
    "language_info": {
      "name": "python"
    }
  },
  "cells": [
    {
      "cell_type": "code",
      "metadata": {
        "id": "IRnijevN4A49"
      },
      "source": [
        "import numpy as np\n",
        "from collections import Counter\n",
        "\n",
        "class KNN():\n",
        "    \n",
        "    def __init__(self):\n",
        "        pass\n",
        "\n",
        "    def train(self, X, y):##KNN is just a lazy learner\n",
        "        self.X_train = X\n",
        "        self.y_train = y\n",
        "\n",
        "    def predict(self, X, k):\n",
        "        dists = self.compute_distances(X)\n",
        "        # print(\"computed distances\")\n",
        "\n",
        "        num_test = dists.shape[0]\n",
        "        y_pred = np.zeros(num_test)\n",
        "\n",
        "        for i in range(num_test):\n",
        "            k_closest_y = []\n",
        "            labels = self.y_train[np.argsort(dists[i,:])].flatten()\n",
        "            # find k nearest lables\n",
        "            k_closest_y = labels[:k]\n",
        "\n",
        "            \n",
        "            c = Counter(k_closest_y)##majority vote\n",
        "            y_pred[i] = c.most_common(1)[0][0] ## takes out the label of the majority vote\n",
        "\n",
        "        return(y_pred)\n",
        "\n",
        "    def compute_distances(self, X): ## just a cool trick to avoid loop to calculate euclidean distance\n",
        "        num_test = X.shape[0]\n",
        "        num_train = self.X_train.shape[0]\n",
        "\n",
        "        dot_pro = np.dot(X, self.X_train.T)\n",
        "        sum_square_test = np.square(X).sum(axis = 1)\n",
        "        sum_square_train = np.square(self.X_train).sum(axis = 1)\n",
        "        dists = np.sqrt(-2 * dot_pro + sum_square_train + np.matrix(sum_square_test).T)\n",
        "\n",
        "        return(dists)"
      ],
      "execution_count": null,
      "outputs": []
    },
    {
      "cell_type": "code",
      "metadata": {
        "id": "FyztyJc64W-V"
      },
      "source": [
        "import pandas as pd\n",
        "import matplotlib.pyplot as plt\n",
        "\n",
        "train=pd.read_csv('sample_data/mnist_train_small.csv')\n",
        "test=pd.read_csv('sample_data/mnist_test.csv')\n",
        "\n",
        "df = pd.DataFrame(train)\n",
        "\n",
        "dff = pd.DataFrame(test)\n",
        "\n",
        "##extracting y out of dataset\n",
        "y_train=df.iloc[:,0]\n",
        "y_test=dff.iloc[:,0]\n",
        "\n",
        "##extracting x out of dataset\n",
        "x_train=df.drop(df.columns[0], axis=1)\n",
        "x_test=dff.drop(dff.columns[0], axis=1)\n",
        "\n",
        "\n",
        "##converting dataframe to numpy array\n",
        "x_train.to_numpy()\n",
        "x_test.to_numpy()\n",
        "y_train.to_numpy()\n",
        "y_test.to_numpy()\n",
        "\n",
        "##normalise x\n",
        "x_train=x_train/255.0\n",
        "x_test=x_test/255.0\n",
        "\n",
        "##y_train=pd.get_dummies(y_train).values\n",
        "x_train=x_train.values\n",
        "x_test=x_test.values\n",
        "y_train=y_train.values\n",
        "y_test=y_test.values\n"
      ],
      "execution_count": null,
      "outputs": []
    },
    {
      "cell_type": "code",
      "metadata": {
        "colab": {
          "base_uri": "https://localhost:8080/"
        },
        "id": "tvNagLLu4uFP",
        "outputId": "14700a90-6cb3-4c1e-dc61-b637095306b5"
      },
      "source": [
        "x_train.shape, y_train.shape, x_test.shape"
      ],
      "execution_count": null,
      "outputs": [
        {
          "output_type": "execute_result",
          "data": {
            "text/plain": [
              "((19999, 784), (19999,), (9999, 784))"
            ]
          },
          "metadata": {
            "tags": []
          },
          "execution_count": 4
        }
      ]
    },
    {
      "cell_type": "code",
      "metadata": {
        "colab": {
          "base_uri": "https://localhost:8080/"
        },
        "id": "knM8cQiOAee6",
        "outputId": "67b7131a-7a74-4ac9-a535-018b7d373a09"
      },
      "source": [
        "import time\n",
        "# predict labels for batch_size number of test images at a time.\n",
        "batch_size = 2000\n",
        "# k = 3\n",
        "kval = [1,3,5,7,9,11,13,15]\n",
        "classifier =KNN()\n",
        "classifier.train(x_train, y_train)\n",
        "accuracy=[]\n",
        "for k in kval:\n",
        "  predictions = []\n",
        "  \n",
        "  for i in range(5):\n",
        "    # predicts from i * batch_size to (i+1) * batch_size\n",
        "    print(\"Computing batch \" + str(i+1) + \"/\" + str(5) + \"...\")\n",
        "    tic = time.time()\n",
        "    predts = classifier.predict(x_test[i * batch_size:(i+1) * batch_size], k)\n",
        "    toc = time.time()\n",
        "    predictions = predictions + list(predts)\n",
        "#     print(\"Len of predictions: \" + str(len(predictions)))\n",
        "    print(\"Completed this batch in \" + str(toc-tic) + \" Secs.\")\n",
        "  predictions = np.array(predictions).astype(np.int)\n",
        "  print(\"Completed predicting the test data foor k = \"+str(k))\n",
        "\n",
        "  acc=np.sum(predictions == y_test)/len(y_test)\n",
        "  accuracy.append(acc)\n",
        "\n"
      ],
      "execution_count": null,
      "outputs": [
        {
          "output_type": "stream",
          "text": [
            "Computing batch 1/5...\n",
            "Completed this batch in 5.406001567840576 Secs.\n",
            "Computing batch 2/5...\n",
            "Completed this batch in 5.347651481628418 Secs.\n",
            "Computing batch 3/5...\n",
            "Completed this batch in 5.293500185012817 Secs.\n",
            "Computing batch 4/5...\n",
            "Completed this batch in 5.286611557006836 Secs.\n",
            "Computing batch 5/5...\n",
            "Completed this batch in 5.278253555297852 Secs.\n",
            "Completed predicting the test data foor k = 1\n",
            "Computing batch 1/5...\n",
            "Completed this batch in 5.316155195236206 Secs.\n",
            "Computing batch 2/5...\n",
            "Completed this batch in 5.321631908416748 Secs.\n",
            "Computing batch 3/5...\n",
            "Completed this batch in 5.312966585159302 Secs.\n",
            "Computing batch 4/5...\n",
            "Completed this batch in 5.299370527267456 Secs.\n",
            "Computing batch 5/5...\n",
            "Completed this batch in 5.313404560089111 Secs.\n",
            "Completed predicting the test data foor k = 3\n",
            "Computing batch 1/5...\n",
            "Completed this batch in 5.307012557983398 Secs.\n",
            "Computing batch 2/5...\n",
            "Completed this batch in 5.292776584625244 Secs.\n",
            "Computing batch 3/5...\n",
            "Completed this batch in 5.3237364292144775 Secs.\n",
            "Computing batch 4/5...\n",
            "Completed this batch in 5.315152406692505 Secs.\n",
            "Computing batch 5/5...\n",
            "Completed this batch in 5.301293611526489 Secs.\n",
            "Completed predicting the test data foor k = 5\n",
            "Computing batch 1/5...\n",
            "Completed this batch in 5.305440664291382 Secs.\n",
            "Computing batch 2/5...\n",
            "Completed this batch in 5.314449071884155 Secs.\n",
            "Computing batch 3/5...\n",
            "Completed this batch in 5.288634777069092 Secs.\n",
            "Computing batch 4/5...\n",
            "Completed this batch in 5.30853009223938 Secs.\n",
            "Computing batch 5/5...\n",
            "Completed this batch in 5.287474870681763 Secs.\n",
            "Completed predicting the test data foor k = 7\n",
            "Computing batch 1/5...\n",
            "Completed this batch in 5.335164546966553 Secs.\n",
            "Computing batch 2/5...\n",
            "Completed this batch in 5.306951999664307 Secs.\n",
            "Computing batch 3/5...\n",
            "Completed this batch in 5.293763637542725 Secs.\n",
            "Computing batch 4/5...\n",
            "Completed this batch in 5.2931132316589355 Secs.\n",
            "Computing batch 5/5...\n",
            "Completed this batch in 5.353858709335327 Secs.\n",
            "Completed predicting the test data foor k = 9\n",
            "Computing batch 1/5...\n",
            "Completed this batch in 5.279685020446777 Secs.\n",
            "Computing batch 2/5...\n",
            "Completed this batch in 5.337198495864868 Secs.\n",
            "Computing batch 3/5...\n",
            "Completed this batch in 5.306155443191528 Secs.\n",
            "Computing batch 4/5...\n",
            "Completed this batch in 5.308658599853516 Secs.\n",
            "Computing batch 5/5...\n",
            "Completed this batch in 5.284792184829712 Secs.\n",
            "Completed predicting the test data foor k = 11\n",
            "Computing batch 1/5...\n",
            "Completed this batch in 5.3237245082855225 Secs.\n",
            "Computing batch 2/5...\n",
            "Completed this batch in 5.308627128601074 Secs.\n",
            "Computing batch 3/5...\n",
            "Completed this batch in 5.328527927398682 Secs.\n",
            "Computing batch 4/5...\n",
            "Completed this batch in 5.301794528961182 Secs.\n",
            "Computing batch 5/5...\n",
            "Completed this batch in 5.322690486907959 Secs.\n",
            "Completed predicting the test data foor k = 13\n",
            "Computing batch 1/5...\n",
            "Completed this batch in 5.303110599517822 Secs.\n",
            "Computing batch 2/5...\n",
            "Completed this batch in 5.327444791793823 Secs.\n",
            "Computing batch 3/5...\n",
            "Completed this batch in 5.315760850906372 Secs.\n",
            "Computing batch 4/5...\n",
            "Completed this batch in 5.29918360710144 Secs.\n",
            "Computing batch 5/5...\n",
            "Completed this batch in 5.3133368492126465 Secs.\n",
            "Completed predicting the test data foor k = 15\n"
          ],
          "name": "stdout"
        }
      ]
    },
    {
      "cell_type": "code",
      "metadata": {
        "id": "5XqAxbmoFEUQ"
      },
      "source": [
        "accuracy=np.array(accuracy)\n",
        "accuracy=accuracy*100"
      ],
      "execution_count": null,
      "outputs": []
    },
    {
      "cell_type": "code",
      "metadata": {
        "colab": {
          "base_uri": "https://localhost:8080/"
        },
        "id": "NcNmEmXGGpCv",
        "outputId": "6f7a4fb2-081b-4cad-935b-816336ecb69b"
      },
      "source": [
        "accuracy"
      ],
      "execution_count": null,
      "outputs": [
        {
          "output_type": "execute_result",
          "data": {
            "text/plain": [
              "array([95.81958196, 96.04960496, 95.96959696, 95.87958796, 95.77957796,\n",
              "       95.50955096, 95.36953695, 95.28952895])"
            ]
          },
          "metadata": {
            "tags": []
          },
          "execution_count": 6
        }
      ]
    },
    {
      "cell_type": "code",
      "metadata": {
        "colab": {
          "base_uri": "https://localhost:8080/",
          "height": 282
        },
        "id": "wlAyjlSNHI3V",
        "outputId": "0b0955d5-0c0d-4c28-f2d8-fe5321e2862e"
      },
      "source": [
        "plt.plot(kval,(accuracy))"
      ],
      "execution_count": null,
      "outputs": [
        {
          "output_type": "execute_result",
          "data": {
            "text/plain": [
              "[<matplotlib.lines.Line2D at 0x7fbc6ba70390>]"
            ]
          },
          "metadata": {
            "tags": []
          },
          "execution_count": 7
        },
        {
          "output_type": "display_data",
          "data": {
            "image/png": "[encoded data removed]",
            "text/plain": [
              "<Figure size 432x288 with 1 Axes>"
            ]
          },
          "metadata": {
            "tags": [],
            "needs_background": "light"
          }
        }
      ]
    },
    {
      "cell_type": "code",
      "metadata": {
        "id": "EVNmwA3EHatb"
      },
      "source": [
        ""
      ],
      "execution_count": null,
      "outputs": []
    }
  ]
}